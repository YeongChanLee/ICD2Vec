{
 "cells": [
  {
   "cell_type": "code",
   "execution_count": 2,
   "metadata": {},
   "outputs": [
    {
     "name": "stderr",
     "output_type": "stream",
     "text": [
      "/usr/lib/python3.6/site-packages/ipykernel_launcher.py:7: DeprecationWarning: Call to deprecated `wv` (Attribute will be removed in 4.0.0, use self instead).\n",
      "  import sys\n",
      "/usr/lib/python3.6/site-packages/ipykernel_launcher.py:8: DeprecationWarning: Call to deprecated `load_fasttext_format` (use load_facebook_vectors (to use pretrained embeddings) or load_facebook_model (to continue training with the loaded full model, more RAM) instead).\n",
      "  \n"
     ]
    }
   ],
   "source": [
    "#Loading the FastText model\n",
    "\n",
    "from gensim.models import FastText as fText\n",
    "from gensim.models.keyedvectors import KeyedVectors\n",
    "\n",
    "model = KeyedVectors.load_word2vec_format('./wiki.en.vec')\n",
    "model_words = list(model.wv.vocab)     #Loading the model words\n",
    "model_bin = fText.load_fasttext_format(\"./wiki.en.bin\")"
   ]
  },
  {
   "cell_type": "code",
   "execution_count": 3,
   "metadata": {},
   "outputs": [],
   "source": [
    "#Converting query to vec\n",
    "\n",
    "import numpy as np\n",
    "from nltk import SnowballStemmer,word_tokenize\n",
    "from nltk.corpus import stopwords\n",
    "\n",
    "stop_words = stopwords.words('english')      #loading the stopwords\n",
    "stemmer = SnowballStemmer(\"english\")         #loading the stemmer\n",
    "\n",
    "delimiter = [',', ':','!', '@','&','$','.','/',']','[']     #defining a set of delimeters\n",
    "\n",
    "def query_to_vec(query):\n",
    "    tmp_vec = np.array([0]*300)\n",
    "    count = 0\n",
    "    for word in word_tokenize(query):\n",
    "        word = word.lower()\n",
    "        if word in delimiter:\n",
    "            continue\n",
    "        if(stemmer.stem(word) in model_words and stemmer.stem(word) not in delimiter):\n",
    "            tmp_vec = tmp_vec + model.wv[stemmer.stem(word)]\n",
    "            count+=1\n",
    "        elif(word in model_words and word not in delimiter):\n",
    "            tmp_vec = tmp_vec + model.wv[word]\n",
    "            count+=1\n",
    "        elif(word not in delimiter):\n",
    "            tmp_vec = tmp_vec + model_bin.wv[word]\n",
    "            continue\n",
    "        else:\n",
    "            continue\n",
    "    return tmp_vec/count"
   ]
  },
  {
   "cell_type": "code",
   "execution_count": 4,
   "metadata": {},
   "outputs": [],
   "source": [
    "#For computing cosine similarity score\n",
    "\n",
    "from scipy import spatial\n",
    "\n",
    "def cos(v1, v2):\n",
    "\tresult = 1 - spatial.distance.cosine(v1, v2)\n",
    "\treturn result"
   ]
  },
  {
   "cell_type": "code",
   "execution_count": 5,
   "metadata": {},
   "outputs": [],
   "source": [
    "import pickle\n",
    "def load_obj(name ):                            #for loading the pickle file\n",
    "    try:\n",
    "        f = open(name + '.pkl', 'rb')\n",
    "    except IOError:\n",
    "        return None\n",
    "    else:\n",
    "        return pickle.load(f)\n",
    "    \n",
    "icd_vec = load_obj(\"parent_based_crawled_encoding_dup\")"
   ]
  },
  {
   "cell_type": "code",
   "execution_count": 6,
   "metadata": {},
   "outputs": [
    {
     "name": "stdout",
     "output_type": "stream",
     "text": [
      "['L29', 'R23', 'C44']\n"
     ]
    },
    {
     "name": "stderr",
     "output_type": "stream",
     "text": [
      "/usr/lib/python3.6/site-packages/ipykernel_launcher.py:20: DeprecationWarning: Call to deprecated `wv` (Attribute will be removed in 4.0.0, use self instead).\n"
     ]
    }
   ],
   "source": [
    "#For finding ICD codes related to the symptoms\n",
    "\n",
    "query_vec = query_to_vec(\"Skin Itching\")\n",
    "ans_dict = dict()\n",
    "\n",
    "for key, value in icd_vec.items():\n",
    "    if(len(key)!=3):\n",
    "        continue\n",
    "    ans_dict[key] = cos(value, query_vec)\n",
    "\n",
    "\n",
    "print(sorted(ans_dict, key=ans_dict.get, reverse=True)[:3])\n",
    "    "
   ]
  },
  {
   "cell_type": "code",
   "execution_count": 9,
   "metadata": {},
   "outputs": [
    {
     "name": "stdout",
     "output_type": "stream",
     "text": [
      "['I51', 'I27', 'O13']\n"
     ]
    }
   ],
   "source": [
    "#For finding ICD code as a combination of other ICD codes\n",
    "\n",
    "query_icd_codes = ['I10','I25']\n",
    "query_vec = np.array([0]*300)\n",
    "for codes in query_icd_codes:\n",
    "    query_vec = query_vec + icd_vec[codes]\n",
    "\n",
    "query_vec = query_vec/len(query_icd_codes)\n",
    "ans_dict = dict()\n",
    "\n",
    "for key, value in icd_vec.items():\n",
    "    if(len(key)!=3 or key in query_icd_codes):\n",
    "        continue\n",
    "    ans_dict[key] = cos(value, query_vec)\n",
    "\n",
    "\n",
    "print(sorted(ans_dict, key=ans_dict.get, reverse=True)[:3])"
   ]
  }
 ],
 "metadata": {
  "kernelspec": {
   "display_name": "Python 3",
   "language": "python",
   "name": "python3"
  },
  "language_info": {
   "codemirror_mode": {
    "name": "ipython",
    "version": 3
   },
   "file_extension": ".py",
   "mimetype": "text/x-python",
   "name": "python",
   "nbconvert_exporter": "python",
   "pygments_lexer": "ipython3",
   "version": "3.6.7"
  }
 },
 "nbformat": 4,
 "nbformat_minor": 4
}
