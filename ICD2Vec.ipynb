{
 "cells": [
  {
   "cell_type": "code",
   "execution_count": null,
   "metadata": {},
   "outputs": [],
   "source": [
    "from gensim.models import FastText as fText\n",
    "from gensim.models.keyedvectors import KeyedVectors\n",
    "\n",
    "model = KeyedVectors.load_word2vec_format('./wiki.en.vec')   #Loading FastText model\n",
    "model_words = list(model.wv.vocab)     #Loading the model words\n",
    "model_bin = fText.load_fasttext_format(\"./wiki.en.bin\")"
   ]
  },
  {
   "cell_type": "markdown",
   "metadata": {},
   "source": [
    "We loaded the model using gensim. 'model_words' contains the word which are there in the dict of pre-trained model."
   ]
  },
  {
   "cell_type": "code",
   "execution_count": null,
   "metadata": {},
   "outputs": [],
   "source": [
    "from nltk import SnowballStemmer\n",
    "from nltk.corpus import stopwords\n",
    "\n",
    "stop_words = stopwords.words('english')      #loading the stopwords\n",
    "stemmer = SnowballStemmer(\"english\")         #loading the stemmer\n",
    "\n",
    "delimiter = [',', ':','!', '@','&','$','.','/',']','[']     #defining a set of delimeters"
   ]
  },
  {
   "cell_type": "code",
   "execution_count": null,
   "metadata": {},
   "outputs": [],
   "source": [
    "import csv\n",
    "\n",
    "data_encoding = dict()                          #For storing ICD codes and its short description\n",
    "flag = 0\n",
    "\n",
    "with open(\"crawling/ukb_coding19.tsv\") as fd:           #Loading the Csv file containing ICD codes and its short description\n",
    "    rd = csv.reader(fd, delimiter=\"\\t\", quotechar='\"')\n",
    "    for row in rd:                            #iterating through each row\n",
    "    \tif (flag==0):                         #Ignoring first row\n",
    "    \t\tflag = 1\n",
    "    \t\tcontinue\n",
    "    \ta = row[1].split(' ',1)[1]\n",
    "    \tdata_encoding[row[0]]=a              #Storing description in a dict"
   ]
  },
  {
   "cell_type": "markdown",
   "metadata": {},
   "source": [
    "We loaded the ICD codes and their short description in a dict named \"data_encoding\""
   ]
  },
  {
   "cell_type": "code",
   "execution_count": null,
   "metadata": {},
   "outputs": [],
   "source": [
    "app_syn = dict()                     #For storing approximate synonyms corresponding to each ICD code\n",
    "cli_info = dict()                    #For storing clinical information corresponding to each ICD code\n",
    "\n",
    "with open(\"crawling/icd_info4.csv\") as fd:  #\"icd_info4.csv\" files contains clinical information and aprroximate synonyms of ICD codes\n",
    "    rd = csv.reader(fd, delimiter=\",\", quotechar='\"')\n",
    "    for row in rd:\n",
    "    \trow[0] = row[0].split('-')[0]\n",
    "    \ttry:\n",
    "    \t\trow[0] = row[0].split('.')[0] + row[0].split('.')[1]\n",
    "    \texcept:\n",
    "    \t\trow[0] = row[0].split('.')[0]\n",
    "    \tcli_info[row[0]] = row[3]\n",
    "    \tapp_syn[row[0]] = row[4]"
   ]
  },
  {
   "cell_type": "code",
   "execution_count": null,
   "metadata": {},
   "outputs": [],
   "source": [
    "import pickle         #For saving the vectors as object file\n",
    "\n",
    "def save_obj(obj, name ):\n",
    "\twith open(name, 'wb') as f:\n",
    "\t\tpickle.dump(obj, f, pickle.HIGHEST_PROTOCOL)"
   ]
  },
  {
   "cell_type": "markdown",
   "metadata": {},
   "source": [
    "We loaded the approximate synonyms, clincal information and ICD code description in three different dict file."
   ]
  },
  {
   "cell_type": "code",
   "execution_count": null,
   "metadata": {},
   "outputs": [],
   "source": [
    "def word_encoding(word):      #return vector representation of each words using FastText encoding\n",
    "    if stemmer.stem(word) in model_words:\n",
    "        return model.wv[stemmer.stem(word)]\n",
    "    elif word in model_words:\n",
    "        return model.wv[word]\n",
    "    else:\n",
    "        return model_bin.wv[word]"
   ]
  },
  {
   "cell_type": "code",
   "execution_count": null,
   "metadata": {},
   "outputs": [],
   "source": [
    "data_encoding_comp = dict()    #for storing complete representation of ICD Codes\n",
    "\n",
    "for key, value in data_encoding.items():\n",
    "    data_encoding_comp[key] = value\n",
    "    if key in cli_info.keys():\n",
    "        if(len(cli_info[key])>0):  #Adding clinical information to ICD code description if present\n",
    "            data_encoding_comp[key] = data_encoding_comp[key] + \" \" + cli_info[key]\n",
    "    if key in app_syn.keys():\n",
    "        if(len(app_syn[key])>0):   #Adding approximate synonyms to ICD codes description if present\n",
    "            data_encoding_comp[key] = data_encoding_comp[key] + \" \" + app_syn[key]"
   ]
  },
  {
   "cell_type": "code",
   "execution_count": null,
   "metadata": {},
   "outputs": [],
   "source": [
    "from nltk import word_tokenize, sent_tokenize\n",
    "import numpy as np\n",
    "\n",
    "data_encoding_vec = dict()     #temporary dict file for storing vector of ICD codes\n",
    "\n",
    "for key, value in data_encoding_comp.items():\n",
    "    word_count = 0\n",
    "    temp_vec = np.array([0]*300)    #Creating an empty array of zeroes of 300 dimensions\n",
    "    for word in word_tokenize(value):\n",
    "        word  = word.lower()\n",
    "        if word in stop_words or word in delimiter:\n",
    "            continue\n",
    "        temp_vec = temp_vec + word_encoding(word)  #Adding vector of each word in description of ICD codes\n",
    "        word_count = word_count + 1\n",
    "    if(word_count>0):\n",
    "        temp_vec = temp_vec/word_count        #Averaging out the vector\n",
    "    data_encoding_vec[key] = temp_vec\n"
   ]
  },
  {
   "cell_type": "code",
   "execution_count": null,
   "metadata": {},
   "outputs": [],
   "source": [
    "icd_code_vec = dict()   #For storing final representation of ICD codes\n",
    "\n",
    "for key, value in data_encoding_vec.items():\n",
    "\ticd_code_vec[key] = value\n",
    "\n",
    "\n",
    "for key, value in icd_code_vec.items():     #For maintaining hierarchy in ICD codes\n",
    "\tflag = 1\n",
    "\ttemp_key = key\n",
    "\tfor key1, value1 in data_encoding_vec.items():\n",
    "\t\tif(temp_key==key1 or key1.split()[0]=='Block' or key1.split()[0]=='Chapter'):\n",
    "\t\t\tcontinue\n",
    "\t\telse:\n",
    "\t\t\tif(temp_key in key1):\n",
    "\t\t\t\ticd_code_vec[key] = icd_code_vec[key] + value1\n",
    "\t\t\t\tflag = flag + 1\n",
    "\tif(flag>1):\n",
    "\t\ticd_code_vec[key] =icd_code_vec[key]/flag\n",
    "        \n",
    "save_obj(icd_code_vec, \"crawling/ICD2Vec.pkl\")"
   ]
  }
 ],
 "metadata": {
  "kernelspec": {
   "display_name": "Python 3",
   "language": "python",
   "name": "python3"
  },
  "language_info": {
   "codemirror_mode": {
    "name": "ipython",
    "version": 3
   },
   "file_extension": ".py",
   "mimetype": "text/x-python",
   "name": "python",
   "nbconvert_exporter": "python",
   "pygments_lexer": "ipython3",
   "version": "3.6.7"
  }
 },
 "nbformat": 4,
 "nbformat_minor": 4
}
