{
 "cells": [
  {
   "cell_type": "code",
   "execution_count": null,
   "metadata": {},
   "outputs": [],
   "source": [
    "#Loading the FastText model\n",
    "\n",
    "from gensim.models import FastText as fText\n",
    "from gensim.models.keyedvectors import KeyedVectors\n",
    "\n",
    "model = KeyedVectors.load_word2vec_format('./wiki.en.vec')\n",
    "model_words = list(model.wv.vocab)     #Loading the model words\n",
    "model_bin = fText.load_fasttext_format(\"./wiki.en.bin\")"
   ]
  },
  {
   "cell_type": "code",
   "execution_count": null,
   "metadata": {},
   "outputs": [],
   "source": [
    "#Converting query to vec\n",
    "\n",
    "import numpy as np\n",
    "from nltk import SnowballStemmer,word_tokenize\n",
    "from nltk.corpus import stopwords\n",
    "\n",
    "stop_words = stopwords.words('english')      #loading the stopwords\n",
    "stemmer = SnowballStemmer(\"english\")         #loading the stemmer\n",
    "\n",
    "delimiter = [',', ':','!', '@','&','$','.','/',']','[']     #defining a set of delimeters\n",
    "\n",
    "def query_to_vec(query):          #For converting query to one single vector\n",
    "    tmp_vec = np.array([0]*300)   #Creating empty array of zeroes of 300 dimensions\n",
    "    count = 0\n",
    "    for word in word_tokenize(query):   #tokenizing the query\n",
    "        word = word.lower()             #Converting word to its lower-case\n",
    "        if word in delimiter:\n",
    "            continue\n",
    "        if(stemmer.stem(word) in model_words and stemmer.stem(word) not in delimiter):\n",
    "            tmp_vec = tmp_vec + model.wv[stemmer.stem(word)]  #adding vector of the word by checking appropriate conditions\n",
    "            count+=1\n",
    "        elif(word in model_words and word not in delimiter):\n",
    "            tmp_vec = tmp_vec + model.wv[word]\n",
    "            count+=1\n",
    "        elif(word not in delimiter):\n",
    "            tmp_vec = tmp_vec + model_bin.wv[word]\n",
    "            count+=1\n",
    "            continue\n",
    "        else:\n",
    "            continue\n",
    "    return tmp_vec/count       #returning average of the vector "
   ]
  },
  {
   "cell_type": "code",
   "execution_count": null,
   "metadata": {},
   "outputs": [],
   "source": [
    "#For computing cosine similarity score\n",
    "\n",
    "from scipy import spatial\n",
    "\n",
    "def cos(v1, v2):\n",
    "\tresult = 1 - spatial.distance.cosine(v1, v2)\n",
    "\treturn result"
   ]
  },
  {
   "cell_type": "code",
   "execution_count": null,
   "metadata": {},
   "outputs": [],
   "source": [
    "import pickle\n",
    "def load_obj(name ):                            #for loading the pickle file\n",
    "    try:\n",
    "        f = open(name + '.pkl', 'rb')\n",
    "    except IOError:\n",
    "        return None\n",
    "    else:\n",
    "        return pickle.load(f)\n",
    "    \n",
    "icd_vec = load_obj(\"icd_code_vec\")"
   ]
  },
  {
   "cell_type": "code",
   "execution_count": null,
   "metadata": {},
   "outputs": [],
   "source": [
    "#For finding ICD codes related to the symptoms\n",
    "\n",
    "query_vec = query_to_vec(\"Skin Itching\")\n",
    "ans_dict = dict()\n",
    "\n",
    "for key, value in icd_vec.items():\n",
    "    if(len(key)!=3):\n",
    "        continue\n",
    "    ans_dict[key] = cos(value, query_vec)\n",
    "\n",
    "\n",
    "print(sorted(ans_dict, key=ans_dict.get, reverse=True)[:3])\n",
    "    "
   ]
  },
  {
   "cell_type": "code",
   "execution_count": null,
   "metadata": {},
   "outputs": [],
   "source": [
    "#For finding ICD code as a combination of other ICD codes\n",
    "\n",
    "query_icd_codes = ['I10','I25']\n",
    "query_vec = np.array([0]*300)\n",
    "for codes in query_icd_codes:\n",
    "    query_vec = query_vec + icd_vec[codes]\n",
    "\n",
    "query_vec = query_vec/len(query_icd_codes)\n",
    "ans_dict = dict()\n",
    "\n",
    "for key, value in icd_vec.items():\n",
    "    if(len(key)!=3 or key in query_icd_codes):\n",
    "        continue\n",
    "    ans_dict[key] = cos(value, query_vec)\n",
    "\n",
    "\n",
    "print(sorted(ans_dict, key=ans_dict.get, reverse=True)[:3])"
   ]
  }
 ],
 "metadata": {
  "kernelspec": {
   "display_name": "Python 3",
   "language": "python",
   "name": "python3"
  },
  "language_info": {
   "codemirror_mode": {
    "name": "ipython",
    "version": 3
   },
   "file_extension": ".py",
   "mimetype": "text/x-python",
   "name": "python",
   "nbconvert_exporter": "python",
   "pygments_lexer": "ipython3",
   "version": "3.6.7"
  }
 },
 "nbformat": 4,
 "nbformat_minor": 4
}
